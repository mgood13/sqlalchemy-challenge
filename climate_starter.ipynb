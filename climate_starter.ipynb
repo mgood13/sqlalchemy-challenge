{
 "cells": [
  {
   "cell_type": "code",
   "execution_count": 1,
   "metadata": {},
   "outputs": [],
   "source": [
    "# Import our dependncies\n",
    "%matplotlib inline\n",
    "from matplotlib import style\n",
    "style.use('fivethirtyeight')\n",
    "import matplotlib.pyplot as plt"
   ]
  },
  {
   "cell_type": "code",
   "execution_count": 2,
   "metadata": {},
   "outputs": [],
   "source": [
    "import numpy as np\n",
    "import pandas as pd"
   ]
  },
  {
   "cell_type": "code",
   "execution_count": 3,
   "metadata": {},
   "outputs": [],
   "source": [
    "import datetime as dt"
   ]
  },
  {
   "cell_type": "markdown",
   "metadata": {},
   "source": [
    "# Reflect Tables into SQLAlchemy ORM"
   ]
  },
  {
   "cell_type": "code",
   "execution_count": 4,
   "metadata": {},
   "outputs": [],
   "source": [
    "# Python SQL toolkit and Object Relational Mapper\n",
    "import sqlalchemy\n",
    "from sqlalchemy.ext.automap import automap_base\n",
    "from sqlalchemy.orm import Session\n",
    "from sqlalchemy import create_engine, func, inspect"
   ]
  },
  {
   "cell_type": "code",
   "execution_count": 5,
   "metadata": {},
   "outputs": [],
   "source": [
    "# Create the engine for our SQLite database\n",
    "engine = create_engine(\"sqlite:///Resources/hawaii.sqlite\")"
   ]
  },
  {
   "cell_type": "code",
   "execution_count": 6,
   "metadata": {},
   "outputs": [],
   "source": [
    "# reflect an existing database into a new model\n",
    "\n",
    "# reflect the tables\n",
    "Base = automap_base()\n",
    "Base.prepare(engine, reflect=True)\n"
   ]
  },
  {
   "cell_type": "code",
   "execution_count": 7,
   "metadata": {},
   "outputs": [
    {
     "data": {
      "text/plain": [
       "['measurement', 'station']"
      ]
     },
     "execution_count": 7,
     "metadata": {},
     "output_type": "execute_result"
    }
   ],
   "source": [
    "# View all of the classes that automap found\n",
    "Base.classes.keys()"
   ]
  },
  {
   "cell_type": "code",
   "execution_count": 8,
   "metadata": {},
   "outputs": [],
   "source": [
    "# Save references to each table\n",
    "Measurement = Base.classes.measurement\n",
    "Station = Base.classes.station"
   ]
  },
  {
   "cell_type": "code",
   "execution_count": 9,
   "metadata": {},
   "outputs": [],
   "source": [
    "# Create our session (link) from Python to the DB\n",
    "session = Session(engine)"
   ]
  },
  {
   "cell_type": "code",
   "execution_count": 10,
   "metadata": {},
   "outputs": [],
   "source": [
    "# Create our inspector, this isn't necessary, but I use it to find the column names as shown below\n",
    "inspector = inspect(engine)"
   ]
  },
  {
   "cell_type": "code",
   "execution_count": 11,
   "metadata": {},
   "outputs": [
    {
     "data": {
      "text/plain": [
       "[{'name': 'id',\n",
       "  'type': INTEGER(),\n",
       "  'nullable': False,\n",
       "  'default': None,\n",
       "  'autoincrement': 'auto',\n",
       "  'primary_key': 1},\n",
       " {'name': 'station',\n",
       "  'type': TEXT(),\n",
       "  'nullable': True,\n",
       "  'default': None,\n",
       "  'autoincrement': 'auto',\n",
       "  'primary_key': 0},\n",
       " {'name': 'date',\n",
       "  'type': TEXT(),\n",
       "  'nullable': True,\n",
       "  'default': None,\n",
       "  'autoincrement': 'auto',\n",
       "  'primary_key': 0},\n",
       " {'name': 'prcp',\n",
       "  'type': FLOAT(),\n",
       "  'nullable': True,\n",
       "  'default': None,\n",
       "  'autoincrement': 'auto',\n",
       "  'primary_key': 0},\n",
       " {'name': 'tobs',\n",
       "  'type': FLOAT(),\n",
       "  'nullable': True,\n",
       "  'default': None,\n",
       "  'autoincrement': 'auto',\n",
       "  'primary_key': 0}]"
      ]
     },
     "execution_count": 11,
     "metadata": {},
     "output_type": "execute_result"
    }
   ],
   "source": [
    "# Visualize the column names in the measurement table\n",
    "inspector.get_columns('measurement')"
   ]
  },
  {
   "cell_type": "markdown",
   "metadata": {},
   "source": [
    "# Exploratory Climate Analysis"
   ]
  },
  {
   "cell_type": "code",
   "execution_count": 60,
   "metadata": {},
   "outputs": [],
   "source": [
    "# Design a query to retrieve the last 12 months of precipitation data and plot the results\n",
    "\n",
    "# Calculate the date 1 year ago from the last data point in the database\n",
    "\n",
    "# Perform a query to retrieve the data and precipitation scores\n",
    "\n",
    "# Save the query results as a Pandas DataFrame and set the index to the date column\n",
    "\n",
    "# Sort the dataframe by date\n",
    "\n",
    "# Use Pandas Plotting with Matplotlib to plot the data\n",
    "\n",
    "# Extract the last row from our data\n",
    "lastrow = engine.execute('SELECT * FROM measurement WHERE id=(SELECT max(id) FROM measurement)').fetchall()\n",
    "\n",
    "# Convert the date into a datetime object\n",
    "lastdate = dt.datetime.strptime(lastrow[0][2],'%Y-%m-%d')\n",
    "\n",
    "\n",
    "# Generate our data from one year prior to the last data in our table\n",
    "# 52 weeks is typically considered a year but that's actually only 364 days\n",
    "yearago = lastdate - dt.timedelta(days = 1, weeks = 52)\n",
    "\n",
    "\n",
    "measurement_df = pd.DataFrame(session.query(Measurement.date, Measurement.prcp).filter(Measurement.date > yearago).all())"
   ]
  },
  {
   "cell_type": "code",
   "execution_count": 61,
   "metadata": {},
   "outputs": [
    {
     "data": {
      "text/html": [
       "<div>\n",
       "<style scoped>\n",
       "    .dataframe tbody tr th:only-of-type {\n",
       "        vertical-align: middle;\n",
       "    }\n",
       "\n",
       "    .dataframe tbody tr th {\n",
       "        vertical-align: top;\n",
       "    }\n",
       "\n",
       "    .dataframe thead th {\n",
       "        text-align: right;\n",
       "    }\n",
       "</style>\n",
       "<table border=\"1\" class=\"dataframe\">\n",
       "  <thead>\n",
       "    <tr style=\"text-align: right;\">\n",
       "      <th></th>\n",
       "      <th>date</th>\n",
       "      <th>prcp</th>\n",
       "    </tr>\n",
       "  </thead>\n",
       "  <tbody>\n",
       "    <tr>\n",
       "      <td>0</td>\n",
       "      <td>2016-08-24</td>\n",
       "      <td>0.08</td>\n",
       "    </tr>\n",
       "    <tr>\n",
       "      <td>1188</td>\n",
       "      <td>2016-08-24</td>\n",
       "      <td>1.22</td>\n",
       "    </tr>\n",
       "    <tr>\n",
       "      <td>702</td>\n",
       "      <td>2016-08-24</td>\n",
       "      <td>2.28</td>\n",
       "    </tr>\n",
       "    <tr>\n",
       "      <td>1875</td>\n",
       "      <td>2016-08-24</td>\n",
       "      <td>1.45</td>\n",
       "    </tr>\n",
       "    <tr>\n",
       "      <td>360</td>\n",
       "      <td>2016-08-24</td>\n",
       "      <td>2.15</td>\n",
       "    </tr>\n",
       "    <tr>\n",
       "      <td>1524</td>\n",
       "      <td>2016-08-24</td>\n",
       "      <td>2.15</td>\n",
       "    </tr>\n",
       "    <tr>\n",
       "      <td>1189</td>\n",
       "      <td>2016-08-25</td>\n",
       "      <td>0.21</td>\n",
       "    </tr>\n",
       "    <tr>\n",
       "      <td>1</td>\n",
       "      <td>2016-08-25</td>\n",
       "      <td>0.08</td>\n",
       "    </tr>\n",
       "    <tr>\n",
       "      <td>1007</td>\n",
       "      <td>2016-08-25</td>\n",
       "      <td>0.00</td>\n",
       "    </tr>\n",
       "    <tr>\n",
       "      <td>1525</td>\n",
       "      <td>2016-08-25</td>\n",
       "      <td>0.06</td>\n",
       "    </tr>\n",
       "    <tr>\n",
       "      <td>361</td>\n",
       "      <td>2016-08-25</td>\n",
       "      <td>0.08</td>\n",
       "    </tr>\n",
       "    <tr>\n",
       "      <td>703</td>\n",
       "      <td>2016-08-25</td>\n",
       "      <td>0.00</td>\n",
       "    </tr>\n",
       "    <tr>\n",
       "      <td>1876</td>\n",
       "      <td>2016-08-25</td>\n",
       "      <td>0.11</td>\n",
       "    </tr>\n",
       "    <tr>\n",
       "      <td>1190</td>\n",
       "      <td>2016-08-26</td>\n",
       "      <td>0.00</td>\n",
       "    </tr>\n",
       "    <tr>\n",
       "      <td>362</td>\n",
       "      <td>2016-08-26</td>\n",
       "      <td>0.03</td>\n",
       "    </tr>\n",
       "    <tr>\n",
       "      <td>1008</td>\n",
       "      <td>2016-08-26</td>\n",
       "      <td>0.04</td>\n",
       "    </tr>\n",
       "    <tr>\n",
       "      <td>1526</td>\n",
       "      <td>2016-08-26</td>\n",
       "      <td>0.01</td>\n",
       "    </tr>\n",
       "    <tr>\n",
       "      <td>704</td>\n",
       "      <td>2016-08-26</td>\n",
       "      <td>0.02</td>\n",
       "    </tr>\n",
       "    <tr>\n",
       "      <td>2</td>\n",
       "      <td>2016-08-26</td>\n",
       "      <td>0.00</td>\n",
       "    </tr>\n",
       "    <tr>\n",
       "      <td>705</td>\n",
       "      <td>2016-08-27</td>\n",
       "      <td>0.02</td>\n",
       "    </tr>\n",
       "    <tr>\n",
       "      <td>1191</td>\n",
       "      <td>2016-08-27</td>\n",
       "      <td>0.00</td>\n",
       "    </tr>\n",
       "    <tr>\n",
       "      <td>3</td>\n",
       "      <td>2016-08-27</td>\n",
       "      <td>0.00</td>\n",
       "    </tr>\n",
       "    <tr>\n",
       "      <td>363</td>\n",
       "      <td>2016-08-27</td>\n",
       "      <td>0.18</td>\n",
       "    </tr>\n",
       "    <tr>\n",
       "      <td>1527</td>\n",
       "      <td>2016-08-27</td>\n",
       "      <td>0.12</td>\n",
       "    </tr>\n",
       "    <tr>\n",
       "      <td>4</td>\n",
       "      <td>2016-08-28</td>\n",
       "      <td>0.01</td>\n",
       "    </tr>\n",
       "    <tr>\n",
       "      <td>1192</td>\n",
       "      <td>2016-08-28</td>\n",
       "      <td>0.14</td>\n",
       "    </tr>\n",
       "    <tr>\n",
       "      <td>1528</td>\n",
       "      <td>2016-08-28</td>\n",
       "      <td>0.60</td>\n",
       "    </tr>\n",
       "    <tr>\n",
       "      <td>706</td>\n",
       "      <td>2016-08-28</td>\n",
       "      <td>0.14</td>\n",
       "    </tr>\n",
       "    <tr>\n",
       "      <td>364</td>\n",
       "      <td>2016-08-28</td>\n",
       "      <td>0.14</td>\n",
       "    </tr>\n",
       "    <tr>\n",
       "      <td>1878</td>\n",
       "      <td>2016-08-28</td>\n",
       "      <td>2.07</td>\n",
       "    </tr>\n",
       "  </tbody>\n",
       "</table>\n",
       "</div>"
      ],
      "text/plain": [
       "            date  prcp\n",
       "0     2016-08-24  0.08\n",
       "1188  2016-08-24  1.22\n",
       "702   2016-08-24  2.28\n",
       "1875  2016-08-24  1.45\n",
       "360   2016-08-24  2.15\n",
       "1524  2016-08-24  2.15\n",
       "1189  2016-08-25  0.21\n",
       "1     2016-08-25  0.08\n",
       "1007  2016-08-25  0.00\n",
       "1525  2016-08-25  0.06\n",
       "361   2016-08-25  0.08\n",
       "703   2016-08-25  0.00\n",
       "1876  2016-08-25  0.11\n",
       "1190  2016-08-26  0.00\n",
       "362   2016-08-26  0.03\n",
       "1008  2016-08-26  0.04\n",
       "1526  2016-08-26  0.01\n",
       "704   2016-08-26  0.02\n",
       "2     2016-08-26  0.00\n",
       "705   2016-08-27  0.02\n",
       "1191  2016-08-27  0.00\n",
       "3     2016-08-27  0.00\n",
       "363   2016-08-27  0.18\n",
       "1527  2016-08-27  0.12\n",
       "4     2016-08-28  0.01\n",
       "1192  2016-08-28  0.14\n",
       "1528  2016-08-28  0.60\n",
       "706   2016-08-28  0.14\n",
       "364   2016-08-28  0.14\n",
       "1878  2016-08-28  2.07"
      ]
     },
     "execution_count": 61,
     "metadata": {},
     "output_type": "execute_result"
    }
   ],
   "source": [
    "\n",
    "\n",
    "measurement_df = measurement_df.dropna()\n",
    "measurement_df = measurement_df.sort_values('date')\n",
    "\n",
    "measurement_df.head(30)\n"
   ]
  },
  {
   "cell_type": "code",
   "execution_count": 62,
   "metadata": {},
   "outputs": [
    {
     "data": {
      "image/png": "[encoded data removed]",
      "text/plain": [
       "<Figure size 432x288 with 1 Axes>"
      ]
     },
     "metadata": {
      "needs_background": "light"
     },
     "output_type": "display_data"
    }
   ],
   "source": [
    "# Plot the data for date and percipitation\n",
    "plt.plot(measurement_df['date'],measurement_df['prcp'])\n",
    "\n",
    "\n",
    "# Found the number of rows that we should skip to make the dates much more readable\n",
    "N = 50  \n",
    "# Pull out all of the ticks\n",
    "xticks_pos, xticks_labels = plt.xticks()\n",
    "# Just take every 50th tick\n",
    "myticks = [i for i,j in enumerate(xticks_pos) if not i%N]\n",
    "#Rotate\n",
    "plt.xticks(myticks, rotation=90)\n",
    "\n",
    "plt.xlabel('Dates')\n",
    "\n",
    "plt.ylabel('Inches')\n",
    "plt.title('Percipitation in Inches by Day')\n",
    "\n",
    "plt.show()"
   ]
  },
  {
   "cell_type": "code",
   "execution_count": 15,
   "metadata": {},
   "outputs": [
    {
     "data": {
      "text/html": [
       "<div>\n",
       "<style scoped>\n",
       "    .dataframe tbody tr th:only-of-type {\n",
       "        vertical-align: middle;\n",
       "    }\n",
       "\n",
       "    .dataframe tbody tr th {\n",
       "        vertical-align: top;\n",
       "    }\n",
       "\n",
       "    .dataframe thead th {\n",
       "        text-align: right;\n",
       "    }\n",
       "</style>\n",
       "<table border=\"1\" class=\"dataframe\">\n",
       "  <thead>\n",
       "    <tr style=\"text-align: right;\">\n",
       "      <th></th>\n",
       "      <th>prcp</th>\n",
       "    </tr>\n",
       "  </thead>\n",
       "  <tbody>\n",
       "    <tr>\n",
       "      <td>count</td>\n",
       "      <td>2015.000000</td>\n",
       "    </tr>\n",
       "    <tr>\n",
       "      <td>mean</td>\n",
       "      <td>0.176462</td>\n",
       "    </tr>\n",
       "    <tr>\n",
       "      <td>std</td>\n",
       "      <td>0.460288</td>\n",
       "    </tr>\n",
       "    <tr>\n",
       "      <td>min</td>\n",
       "      <td>0.000000</td>\n",
       "    </tr>\n",
       "    <tr>\n",
       "      <td>25%</td>\n",
       "      <td>0.000000</td>\n",
       "    </tr>\n",
       "    <tr>\n",
       "      <td>50%</td>\n",
       "      <td>0.020000</td>\n",
       "    </tr>\n",
       "    <tr>\n",
       "      <td>75%</td>\n",
       "      <td>0.130000</td>\n",
       "    </tr>\n",
       "    <tr>\n",
       "      <td>max</td>\n",
       "      <td>6.700000</td>\n",
       "    </tr>\n",
       "  </tbody>\n",
       "</table>\n",
       "</div>"
      ],
      "text/plain": [
       "              prcp\n",
       "count  2015.000000\n",
       "mean      0.176462\n",
       "std       0.460288\n",
       "min       0.000000\n",
       "25%       0.000000\n",
       "50%       0.020000\n",
       "75%       0.130000\n",
       "max       6.700000"
      ]
     },
     "execution_count": 15,
     "metadata": {},
     "output_type": "execute_result"
    }
   ],
   "source": [
    "# Use Pandas to calcualte the summary statistics for the precipitation data\n",
    "measurement_df.describe()"
   ]
  },
  {
   "cell_type": "code",
   "execution_count": 16,
   "metadata": {},
   "outputs": [
    {
     "name": "stdout",
     "output_type": "stream",
     "text": [
      "The total number of stations in this dataset is: 9\n"
     ]
    }
   ],
   "source": [
    "# Design a query to show how many stations are available in this dataset\n",
    "inspector.get_columns('station')\n",
    "stationlist = engine.execute('select * from station').fetchall()\n",
    "print(f'The total number of stations in this dataset is: {len(stationlist)}')"
   ]
  },
  {
   "cell_type": "code",
   "execution_count": 17,
   "metadata": {},
   "outputs": [
    {
     "name": "stdout",
     "output_type": "stream",
     "text": [
      "(1, 'USC00519397', 'WAIKIKI 717.2, HI US', 21.2716, -157.8168, 3.0)\n",
      "(2, 'USC00513117', 'KANEOHE 838.1, HI US', 21.4234, -157.8015, 14.6)\n",
      "(3, 'USC00514830', 'KUALOA RANCH HEADQUARTERS 886.9, HI US', 21.5213, -157.8374, 7.0)\n",
      "(4, 'USC00517948', 'PEARL CITY, HI US', 21.3934, -157.9751, 11.9)\n",
      "(5, 'USC00518838', 'UPPER WAHIAWA 874.3, HI US', 21.4992, -158.0111, 306.6)\n",
      "(6, 'USC00519523', 'WAIMANALO EXPERIMENTAL FARM, HI US', 21.33556, -157.71139, 19.5)\n",
      "(7, 'USC00519281', 'WAIHEE 837.5, HI US', 21.45167, -157.84888999999998, 32.9)\n",
      "(8, 'USC00511918', 'HONOLULU OBSERVATORY 702.2, HI US', 21.3152, -157.9992, 0.9)\n",
      "(9, 'USC00516128', 'MANOA LYON ARBO 785.2, HI US', 21.3331, -157.8025, 152.4)\n"
     ]
    }
   ],
   "source": [
    "# Print out all of our station information, I reference this later so it's easier to have it visible\n",
    "for station in stationlist:\n",
    "    print(station)"
   ]
  },
  {
   "cell_type": "code",
   "execution_count": 18,
   "metadata": {},
   "outputs": [
    {
     "data": {
      "text/plain": [
       "[{'name': 'id',\n",
       "  'type': INTEGER(),\n",
       "  'nullable': False,\n",
       "  'default': None,\n",
       "  'autoincrement': 'auto',\n",
       "  'primary_key': 1},\n",
       " {'name': 'station',\n",
       "  'type': TEXT(),\n",
       "  'nullable': True,\n",
       "  'default': None,\n",
       "  'autoincrement': 'auto',\n",
       "  'primary_key': 0},\n",
       " {'name': 'name',\n",
       "  'type': TEXT(),\n",
       "  'nullable': True,\n",
       "  'default': None,\n",
       "  'autoincrement': 'auto',\n",
       "  'primary_key': 0},\n",
       " {'name': 'latitude',\n",
       "  'type': FLOAT(),\n",
       "  'nullable': True,\n",
       "  'default': None,\n",
       "  'autoincrement': 'auto',\n",
       "  'primary_key': 0},\n",
       " {'name': 'longitude',\n",
       "  'type': FLOAT(),\n",
       "  'nullable': True,\n",
       "  'default': None,\n",
       "  'autoincrement': 'auto',\n",
       "  'primary_key': 0},\n",
       " {'name': 'elevation',\n",
       "  'type': FLOAT(),\n",
       "  'nullable': True,\n",
       "  'default': None,\n",
       "  'autoincrement': 'auto',\n",
       "  'primary_key': 0}]"
      ]
     },
     "execution_count": 18,
     "metadata": {},
     "output_type": "execute_result"
    }
   ],
   "source": [
    "# Visualize our column titles for the station table\n",
    "inspector.get_columns('station')"
   ]
  },
  {
   "cell_type": "code",
   "execution_count": 19,
   "metadata": {},
   "outputs": [
    {
     "name": "stdout",
     "output_type": "stream",
     "text": [
      "Station ID: USC00519281 Measurement Count: 2772\n",
      "Station ID: USC00519397 Measurement Count: 2724\n",
      "Station ID: USC00513117 Measurement Count: 2709\n",
      "Station ID: USC00519523 Measurement Count: 2669\n",
      "Station ID: USC00516128 Measurement Count: 2612\n",
      "Station ID: USC00514830 Measurement Count: 2202\n",
      "Station ID: USC00511918 Measurement Count: 1979\n",
      "Station ID: USC00517948 Measurement Count: 1372\n",
      "Station ID: USC00518838 Measurement Count: 511\n"
     ]
    }
   ],
   "source": [
    "# What are the most active stations? (i.e. what stations have the most rows)?\n",
    "# List the stations and the counts in descending order.\n",
    "\n",
    "# Query our database to find the number of observations from each station\n",
    "stationscount = engine.execute(f'SELECT station, count(tobs) FROM measurement GROUP BY station ORDER BY count(tobs) DESC').fetchall()\n",
    "# Print out the stations in a nice format\n",
    "for station in stationscount:\n",
    "    print(f'Station ID: {station[0]} Measurement Count: {station[1]}')"
   ]
  },
  {
   "cell_type": "code",
   "execution_count": 70,
   "metadata": {},
   "outputs": [
    {
     "name": "stdout",
     "output_type": "stream",
     "text": [
      "The most active station was: USC00519281\n",
      "It recorded a maximum temperature of: 83.0 F\n",
      "It recorded a minimum temperature of: 59.0 F\n",
      "It recorded an average temperature of: 73.1 F\n"
     ]
    }
   ],
   "source": [
    "# Using the station id from the previous query, calculate the lowest temperature recorded, \n",
    "# highest temperature recorded, and average temperature of the most active station?\n",
    "# Retrieve the station with the most observations\n",
    "activestation = stationscount[0][0]\n",
    "activestation\n",
    "measuretemp = pd.DataFrame(session.query(Measurement.station,Measurement.date, Measurement.tobs).filter(Measurement.date > yearago).all())\n",
    "small_df = measuretemp.loc[measuretemp['station'] == activestation,:]\n",
    "# Extract the values of interest\n",
    "maxtemp = small_df['tobs'].max()\n",
    "mintemp = small_df['tobs'].min()\n",
    "avgtemp = round(small_df['tobs'].mean(),2)\n",
    "# Print them in a readable way\n",
    "print(f\"The most active station was: {activestation}\")\n",
    "print(f'It recorded a maximum temperature of: {maxtemp} F')\n",
    "print(f'It recorded a minimum temperature of: {mintemp} F')\n",
    "print(f'It recorded an average temperature of: {avgtemp} F')"
   ]
  },
  {
   "cell_type": "code",
   "execution_count": 71,
   "metadata": {},
   "outputs": [
    {
     "data": {
      "image/png": "[encoded data removed]",
      "text/plain": [
       "<Figure size 432x288 with 1 Axes>"
      ]
     },
     "metadata": {
      "needs_background": "light"
     },
     "output_type": "display_data"
    }
   ],
   "source": [
    "# Choose the station with the highest number of temperature observations.\n",
    "# Query the last 12 months of temperature observation data for this station and plot the results as a histogram\n",
    "temp_data = pd.DataFrame(session.query(Measurement.date, Measurement.tobs).filter(Measurement.date > yearago).filter(Measurement.station == activestation).all())\n",
    "temp_data.head()\n",
    "\n",
    "plt.hist(temp_data['tobs'],bins = 12)\n",
    "plt.title('Histogram of temperature Observations')\n",
    "plt.ylabel('Count')\n",
    "plt.xlabel('Temperature (F)')\n",
    "plt.show()\n"
   ]
  },
  {
   "cell_type": "markdown",
   "metadata": {},
   "source": [
    "## Bonus Challenge Assignment"
   ]
  },
  {
   "cell_type": "code",
   "execution_count": 22,
   "metadata": {},
   "outputs": [
    {
     "name": "stdout",
     "output_type": "stream",
     "text": [
      "[(62.0, 69.57142857142857, 74.0)]\n"
     ]
    }
   ],
   "source": [
    "# This function called `calc_temps` will accept start date and end date in the format '%Y-%m-%d' \n",
    "# and return the minimum, average, and maximum temperatures for that range of dates\n",
    "def calc_temps(start_date, end_date):\n",
    "    \"\"\"TMIN, TAVG, and TMAX for a list of dates.\n",
    "    \n",
    "    Args:\n",
    "        start_date (string): A date string in the format %Y-%m-%d\n",
    "        end_date (string): A date string in the format %Y-%m-%d\n",
    "        \n",
    "    Returns:\n",
    "        TMIN, TAVE, and TMAX\n",
    "    \"\"\"\n",
    "    \n",
    "    return session.query(func.min(Measurement.tobs), func.avg(Measurement.tobs), func.max(Measurement.tobs)).\\\n",
    "        filter(Measurement.date >= start_date).filter(Measurement.date <= end_date).all()\n",
    "\n",
    "# function usage example\n",
    "print(calc_temps('2012-02-28', '2012-03-05'))"
   ]
  },
  {
   "cell_type": "code",
   "execution_count": 23,
   "metadata": {},
   "outputs": [],
   "source": [
    "# Use your previous function `calc_temps` to calculate the tmin, tavg, and tmax \n",
    "# for your trip using the previous year's data for those same dates.\n",
    "ourvacay = []\n",
    "#Our first vacation will be from December 20 - January 4\n",
    "ourvacay.append(calc_temps('2016-12-20', '2017-01-04')[0])\n",
    "# Our second vacation will be from June 10 - June 21\n",
    "ourvacay.append(calc_temps('2016-06-10', '2016-06-21')[0])"
   ]
  },
  {
   "cell_type": "code",
   "execution_count": 24,
   "metadata": {},
   "outputs": [
    {
     "data": {
      "image/png": "[encoded data removed]",
      "text/plain": [
       "<Figure size 432x288 with 1 Axes>"
      ]
     },
     "metadata": {
      "needs_background": "light"
     },
     "output_type": "display_data"
    }
   ],
   "source": [
    "\n",
    "# Create an empty error list then populate it with the temperature differences\n",
    "err = []\n",
    "for i in ourvacay:\n",
    "    err.append(i[2] - i[0])\n",
    "labels = ['December Vacation', 'June Vacation']\n",
    "\n",
    "# Plot our data for the two vacations\n",
    "plt.bar(labels,ourvacay[0][1],yerr = err, width = [0.4,0.4], color = ['#9c6881','#cc3f54'], capsize = 10)\n",
    "plt.title('Trip Average Temperature')\n",
    "plt.ylabel('Average Temperature (F)')\n",
    "plt.xlabel('Vacation')\n",
    "plt.show()"
   ]
  },
  {
   "cell_type": "code",
   "execution_count": 25,
   "metadata": {},
   "outputs": [],
   "source": [
    "# Calculate the total amount of rainfall per weather station for your trip dates using the previous year's matching dates.\n",
    "# Sort this in descending order by precipitation amount and list the station, name, latitude, longitude, and elevation\n",
    "\n",
    "\n",
    "# We're going to just use December Vacation for this section to avoid copy and pasting the same code 3 times\n",
    "dstart = dt.datetime(2016, 12, 20)\n",
    "dend = dt.datetime(2017,1,4)\n",
    "dec_df = pd.DataFrame(session.query(Measurement.station, Measurement.date, Measurement.prcp).filter(Measurement.date <= dend).filter(Measurement.date >= dstart))\n",
    "\n",
    "# Create an empty dictionary and then populate it with empty references to each station in our dataset\n",
    "station_dictionary = {}\n",
    "\n",
    "for eachstation in dec_df['station'].unique():\n",
    "    station_dictionary[eachstation] = {}\n",
    "\n",
    "# Loop through the stations that we collected and pull out the data from our station dataset\n",
    "# Store this data in the empty dictionaries we created\n",
    "for station in dec_df['station'].unique():\n",
    "    temp_df = dec_df.loc[dec_df['station'] == station,:]\n",
    "    precipitation = temp_df['prcp'].sum()\n",
    "    for statid in stationlist:\n",
    "        if statid[1] == station:\n",
    "            station_dictionary[station]['Elevation'] = statid[5]\n",
    "            station_dictionary[station]['Name'] = statid[2]\n",
    "            station_dictionary[station]['Latitude'] = statid[3]\n",
    "            station_dictionary[station]['Longitude'] = statid[4]\n",
    "            station_dictionary[station]['Precipitation'] = precipitation\n",
    "            "
   ]
  },
  {
   "cell_type": "code",
   "execution_count": 26,
   "metadata": {},
   "outputs": [
    {
     "data": {
      "text/plain": [
       "{'USC00519397': {'Elevation': 3.0,\n",
       "  'Name': 'WAIKIKI 717.2, HI US',\n",
       "  'Latitude': 21.2716,\n",
       "  'Longitude': -157.8168,\n",
       "  'Precipitation': 0.24000000000000002},\n",
       " 'USC00513117': {'Elevation': 14.6,\n",
       "  'Name': 'KANEOHE 838.1, HI US',\n",
       "  'Latitude': 21.4234,\n",
       "  'Longitude': -157.8015,\n",
       "  'Precipitation': 2.15},\n",
       " 'USC00514830': {'Elevation': 7.0,\n",
       "  'Name': 'KUALOA RANCH HEADQUARTERS 886.9, HI US',\n",
       "  'Latitude': 21.5213,\n",
       "  'Longitude': -157.8374,\n",
       "  'Precipitation': 1.55},\n",
       " 'USC00517948': {'Elevation': 11.9,\n",
       "  'Name': 'PEARL CITY, HI US',\n",
       "  'Latitude': 21.3934,\n",
       "  'Longitude': -157.9751,\n",
       "  'Precipitation': 0.06},\n",
       " 'USC00519523': {'Elevation': 19.5,\n",
       "  'Name': 'WAIMANALO EXPERIMENTAL FARM, HI US',\n",
       "  'Latitude': 21.33556,\n",
       "  'Longitude': -157.71139,\n",
       "  'Precipitation': 0.7},\n",
       " 'USC00519281': {'Elevation': 32.9,\n",
       "  'Name': 'WAIHEE 837.5, HI US',\n",
       "  'Latitude': 21.45167,\n",
       "  'Longitude': -157.84888999999998,\n",
       "  'Precipitation': 2.8899999999999997},\n",
       " 'USC00516128': {'Elevation': 152.4,\n",
       "  'Name': 'MANOA LYON ARBO 785.2, HI US',\n",
       "  'Latitude': 21.3331,\n",
       "  'Longitude': -157.8025,\n",
       "  'Precipitation': 10.17}}"
      ]
     },
     "execution_count": 26,
     "metadata": {},
     "output_type": "execute_result"
    }
   ],
   "source": [
    "# Visualize the dictionary to make sure it has teh expected data\n",
    "station_dictionary"
   ]
  },
  {
   "cell_type": "code",
   "execution_count": 27,
   "metadata": {},
   "outputs": [
    {
     "name": "stdout",
     "output_type": "stream",
     "text": [
      "Station ID: USC00516128\n",
      "Station Name: MANOA LYON ARBO 785.2, HI US\n",
      "Station Latitude: 21.3331\n",
      "Station Longitude: -157.8025\n",
      "Station Elevation: 152.4\n",
      "Station Precipitation: 10.17 \n",
      "\n",
      "Station ID: USC00519281\n",
      "Station Name: WAIHEE 837.5, HI US\n",
      "Station Latitude: 21.45167\n",
      "Station Longitude: -157.84888999999998\n",
      "Station Elevation: 32.9\n",
      "Station Precipitation: 2.8899999999999997 \n",
      "\n",
      "Station ID: USC00513117\n",
      "Station Name: KANEOHE 838.1, HI US\n",
      "Station Latitude: 21.4234\n",
      "Station Longitude: -157.8015\n",
      "Station Elevation: 14.6\n",
      "Station Precipitation: 2.15 \n",
      "\n",
      "Station ID: USC00514830\n",
      "Station Name: KUALOA RANCH HEADQUARTERS 886.9, HI US\n",
      "Station Latitude: 21.5213\n",
      "Station Longitude: -157.8374\n",
      "Station Elevation: 7.0\n",
      "Station Precipitation: 1.55 \n",
      "\n",
      "Station ID: USC00519523\n",
      "Station Name: WAIMANALO EXPERIMENTAL FARM, HI US\n",
      "Station Latitude: 21.33556\n",
      "Station Longitude: -157.71139\n",
      "Station Elevation: 19.5\n",
      "Station Precipitation: 0.7 \n",
      "\n",
      "Station ID: USC00519397\n",
      "Station Name: WAIKIKI 717.2, HI US\n",
      "Station Latitude: 21.2716\n",
      "Station Longitude: -157.8168\n",
      "Station Elevation: 3.0\n",
      "Station Precipitation: 0.24000000000000002 \n",
      "\n",
      "Station ID: USC00517948\n",
      "Station Name: PEARL CITY, HI US\n",
      "Station Latitude: 21.3934\n",
      "Station Longitude: -157.9751\n",
      "Station Elevation: 11.9\n",
      "Station Precipitation: 0.06 \n",
      "\n"
     ]
    }
   ],
   "source": [
    "# Create an empty precipitation list then take all of our precipitation values from our above dictionary\n",
    "# Sort this list by highest precipitation\n",
    "precipitation = []\n",
    "\n",
    "for station in station_dictionary:\n",
    "    precipitation.append(station_dictionary[station]['Precipitation'])\n",
    "precipitation.sort(reverse = True)\n",
    "\n",
    "# Print out our data in order of its precipitation value\n",
    "for value in precipitation:\n",
    "    for station in station_dictionary:\n",
    "        if station_dictionary[station]['Precipitation']== value:\n",
    "            print(f'Station ID: {station}')\n",
    "            print(f'Station Name: {station_dictionary[station][\"Name\"]}')\n",
    "            print(f'Station Latitude: {station_dictionary[station][\"Latitude\"]}')\n",
    "            print(f'Station Longitude: {station_dictionary[station][\"Longitude\"]}')\n",
    "            print(f'Station Elevation: {station_dictionary[station][\"Elevation\"]}')\n",
    "            print(f'Station Precipitation: {value} \\n')\n",
    "\n",
    "        "
   ]
  },
  {
   "cell_type": "code",
   "execution_count": 28,
   "metadata": {},
   "outputs": [
    {
     "data": {
      "text/plain": [
       "[(62.0, 69.15384615384616, 77.0)]"
      ]
     },
     "execution_count": 28,
     "metadata": {},
     "output_type": "execute_result"
    }
   ],
   "source": [
    "# Create a query that will calculate the daily normals \n",
    "# (i.e. the averages for tmin, tmax, and tavg for all historic data matching a specific month and day)\n",
    "\n",
    "def daily_normals(date):\n",
    "    \"\"\"Daily Normals.\n",
    "    \n",
    "    Args:\n",
    "        date (str): A date string in the format '%m-%d'\n",
    "        \n",
    "    Returns:\n",
    "        A list of tuples containing the daily normals, tmin, tavg, and tmax\n",
    "    \n",
    "    \"\"\"\n",
    "    \n",
    "    sel = [func.min(Measurement.tobs), func.avg(Measurement.tobs), func.max(Measurement.tobs)]\n",
    "    return session.query(*sel).filter(func.strftime(\"%m-%d\", Measurement.date) == date).all()\n",
    "    \n",
    "daily_normals(\"01-01\")"
   ]
  },
  {
   "cell_type": "code",
   "execution_count": 29,
   "metadata": {},
   "outputs": [
    {
     "data": {
      "text/plain": [
       "[(65.0, 72.91304347826087, 81.0),\n",
       " (67.0, 72.13953488372093, 78.0),\n",
       " (67.0, 71.1304347826087, 77.0),\n",
       " (61.0, 70.34693877551021, 78.0),\n",
       " (62.0, 70.0625, 78.0),\n",
       " (60.0, 71.75, 79.0),\n",
       " (63.0, 71.44680851063829, 77.0),\n",
       " (62.0, 71.91666666666667, 79.0),\n",
       " (62.0, 70.52083333333333, 77.0),\n",
       " (57.0, 70.29166666666667, 78.0),\n",
       " (63.0, 69.86363636363636, 76.0),\n",
       " (56.0, 68.27906976744185, 77.0),\n",
       " (62.0, 69.15384615384616, 77.0),\n",
       " (60.0, 69.39622641509433, 77.0),\n",
       " (62.0, 68.9090909090909, 77.0),\n",
       " (58.0, 70.0, 76.0)]"
      ]
     },
     "execution_count": 29,
     "metadata": {},
     "output_type": "execute_result"
    }
   ],
   "source": [
    "# calculate the daily normals for your trip\n",
    "# push each tuple of calculations into a list called `normals`\n",
    "\n",
    "day_list = []\n",
    "\n",
    "\n",
    "normals = []\n",
    "\n",
    "\n",
    "# Set the start and end date of the trip\n",
    "startdate = '2016-12-20'\n",
    "startdate = dt.datetime.strptime(startdate,'%Y-%m-%d')\n",
    "enddate = '2017-01-04'\n",
    "enddate = dt.datetime.strptime(enddate,'%Y-%m-%d')\n",
    "\n",
    "# Loop through and create the date values for month and date by looping from our initial date until our last date\n",
    "tempdate = startdate\n",
    "while tempdate <= enddate:\n",
    "    month = tempdate.strftime(\"%m\")\n",
    "    day = tempdate.strftime(\"%d\")\n",
    "    tempform = f\"{month}-{day}\"\n",
    "    day_list.append(tempform)\n",
    "    \n",
    "    tempdate = tempdate + dt.timedelta(days = 1)\n",
    "    \n",
    "# Call the function and obtain our normals\n",
    "for vacationdate in day_list:\n",
    "    normals.append(daily_normals(vacationdate)[0])\n",
    "    \n",
    "# Visualize the output to check our results\n",
    "normals"
   ]
  },
  {
   "cell_type": "code",
   "execution_count": 30,
   "metadata": {},
   "outputs": [
    {
     "data": {
      "text/html": [
       "<div>\n",
       "<style scoped>\n",
       "    .dataframe tbody tr th:only-of-type {\n",
       "        vertical-align: middle;\n",
       "    }\n",
       "\n",
       "    .dataframe tbody tr th {\n",
       "        vertical-align: top;\n",
       "    }\n",
       "\n",
       "    .dataframe thead th {\n",
       "        text-align: right;\n",
       "    }\n",
       "</style>\n",
       "<table border=\"1\" class=\"dataframe\">\n",
       "  <thead>\n",
       "    <tr style=\"text-align: right;\">\n",
       "      <th></th>\n",
       "      <th>Min_Temp</th>\n",
       "      <th>Avg_Temp</th>\n",
       "      <th>Max_Temp</th>\n",
       "    </tr>\n",
       "    <tr>\n",
       "      <th>Date</th>\n",
       "      <th></th>\n",
       "      <th></th>\n",
       "      <th></th>\n",
       "    </tr>\n",
       "  </thead>\n",
       "  <tbody>\n",
       "    <tr>\n",
       "      <td>12-20</td>\n",
       "      <td>65.0</td>\n",
       "      <td>72.913043</td>\n",
       "      <td>81.0</td>\n",
       "    </tr>\n",
       "    <tr>\n",
       "      <td>12-21</td>\n",
       "      <td>67.0</td>\n",
       "      <td>72.139535</td>\n",
       "      <td>78.0</td>\n",
       "    </tr>\n",
       "    <tr>\n",
       "      <td>12-22</td>\n",
       "      <td>67.0</td>\n",
       "      <td>71.130435</td>\n",
       "      <td>77.0</td>\n",
       "    </tr>\n",
       "    <tr>\n",
       "      <td>12-23</td>\n",
       "      <td>61.0</td>\n",
       "      <td>70.346939</td>\n",
       "      <td>78.0</td>\n",
       "    </tr>\n",
       "    <tr>\n",
       "      <td>12-24</td>\n",
       "      <td>62.0</td>\n",
       "      <td>70.062500</td>\n",
       "      <td>78.0</td>\n",
       "    </tr>\n",
       "    <tr>\n",
       "      <td>12-25</td>\n",
       "      <td>60.0</td>\n",
       "      <td>71.750000</td>\n",
       "      <td>79.0</td>\n",
       "    </tr>\n",
       "    <tr>\n",
       "      <td>12-26</td>\n",
       "      <td>63.0</td>\n",
       "      <td>71.446809</td>\n",
       "      <td>77.0</td>\n",
       "    </tr>\n",
       "    <tr>\n",
       "      <td>12-27</td>\n",
       "      <td>62.0</td>\n",
       "      <td>71.916667</td>\n",
       "      <td>79.0</td>\n",
       "    </tr>\n",
       "    <tr>\n",
       "      <td>12-28</td>\n",
       "      <td>62.0</td>\n",
       "      <td>70.520833</td>\n",
       "      <td>77.0</td>\n",
       "    </tr>\n",
       "    <tr>\n",
       "      <td>12-29</td>\n",
       "      <td>57.0</td>\n",
       "      <td>70.291667</td>\n",
       "      <td>78.0</td>\n",
       "    </tr>\n",
       "    <tr>\n",
       "      <td>12-30</td>\n",
       "      <td>63.0</td>\n",
       "      <td>69.863636</td>\n",
       "      <td>76.0</td>\n",
       "    </tr>\n",
       "    <tr>\n",
       "      <td>12-31</td>\n",
       "      <td>56.0</td>\n",
       "      <td>68.279070</td>\n",
       "      <td>77.0</td>\n",
       "    </tr>\n",
       "    <tr>\n",
       "      <td>01-01</td>\n",
       "      <td>62.0</td>\n",
       "      <td>69.153846</td>\n",
       "      <td>77.0</td>\n",
       "    </tr>\n",
       "    <tr>\n",
       "      <td>01-02</td>\n",
       "      <td>60.0</td>\n",
       "      <td>69.396226</td>\n",
       "      <td>77.0</td>\n",
       "    </tr>\n",
       "    <tr>\n",
       "      <td>01-03</td>\n",
       "      <td>62.0</td>\n",
       "      <td>68.909091</td>\n",
       "      <td>77.0</td>\n",
       "    </tr>\n",
       "    <tr>\n",
       "      <td>01-04</td>\n",
       "      <td>58.0</td>\n",
       "      <td>70.000000</td>\n",
       "      <td>76.0</td>\n",
       "    </tr>\n",
       "  </tbody>\n",
       "</table>\n",
       "</div>"
      ],
      "text/plain": [
       "       Min_Temp   Avg_Temp  Max_Temp\n",
       "Date                                \n",
       "12-20      65.0  72.913043      81.0\n",
       "12-21      67.0  72.139535      78.0\n",
       "12-22      67.0  71.130435      77.0\n",
       "12-23      61.0  70.346939      78.0\n",
       "12-24      62.0  70.062500      78.0\n",
       "12-25      60.0  71.750000      79.0\n",
       "12-26      63.0  71.446809      77.0\n",
       "12-27      62.0  71.916667      79.0\n",
       "12-28      62.0  70.520833      77.0\n",
       "12-29      57.0  70.291667      78.0\n",
       "12-30      63.0  69.863636      76.0\n",
       "12-31      56.0  68.279070      77.0\n",
       "01-01      62.0  69.153846      77.0\n",
       "01-02      60.0  69.396226      77.0\n",
       "01-03      62.0  68.909091      77.0\n",
       "01-04      58.0  70.000000      76.0"
      ]
     },
     "execution_count": 30,
     "metadata": {},
     "output_type": "execute_result"
    }
   ],
   "source": [
    "# Place these values in to a dataframe and add date as the index\n",
    "normals_df = pd.DataFrame(normals, columns = ['Min_Temp', 'Avg_Temp', 'Max_Temp'])\n",
    "normals_df['Date'] = day_list\n",
    "normals_df = normals_df.set_index('Date')\n",
    "normals_df"
   ]
  },
  {
   "cell_type": "code",
   "execution_count": 56,
   "metadata": {},
   "outputs": [
    {
     "data": {
      "image/png": "[encoded data removed]",
      "text/plain": [
       "<Figure size 432x288 with 1 Axes>"
      ]
     },
     "metadata": {
      "needs_background": "light"
     },
     "output_type": "display_data"
    }
   ],
   "source": [
    "# Plot the daily normals as an area plot with `stacked=False`\n",
    "normals_df.plot.area(stacked = False)\n",
    "plt.title('Normal Temperatures for our December Vacation')\n",
    "plt.ylabel('Temperature (F)')\n",
    "plt.show()"
   ]
  },
  {
   "cell_type": "code",
   "execution_count": null,
   "metadata": {},
   "outputs": [],
   "source": []
  }
 ],
 "metadata": {
  "kernel_info": {
   "name": "python3"
  },
  "kernelspec": {
   "display_name": "Python 3",
   "language": "python",
   "name": "python3"
  },
  "language_info": {
   "codemirror_mode": {
    "name": "ipython",
    "version": 3
   },
   "file_extension": ".py",
   "mimetype": "text/x-python",
   "name": "python",
   "nbconvert_exporter": "python",
   "pygments_lexer": "ipython3",
   "version": "3.7.4"
  },
  "nteract": {
   "version": "0.12.3"
  },
  "varInspector": {
   "cols": {
    "lenName": 16,
    "lenType": 16,
    "lenVar": 40
   },
   "kernels_config": {
    "python": {
     "delete_cmd_postfix": "",
     "delete_cmd_prefix": "del ",
     "library": "var_list.py",
     "varRefreshCmd": "print(var_dic_list())"
    },
    "r": {
     "delete_cmd_postfix": ") ",
     "delete_cmd_prefix": "rm(",
     "library": "var_list.r",
     "varRefreshCmd": "cat(var_dic_list()) "
    }
   },
   "types_to_exclude": [
    "module",
    "function",
    "builtin_function_or_method",
    "instance",
    "_Feature"
   ],
   "window_display": false
  }
 },
 "nbformat": 4,
 "nbformat_minor": 2
}
